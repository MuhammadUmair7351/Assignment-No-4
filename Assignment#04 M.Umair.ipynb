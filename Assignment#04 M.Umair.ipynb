{
 "cells": [
  {
   "cell_type": "code",
   "execution_count": 10,
   "id": "eeaeb26b",
   "metadata": {},
   "outputs": [
    {
     "name": "stdout",
     "output_type": "stream",
     "text": [
      "1.Addition\n",
      "2.Subtraction\n",
      "3.Multiplication\n",
      "4.Division\n",
      "5.Power\n",
      "Choose the operator 1/2/3/4/5:4\n",
      "FirstNum :5\n",
      "SecondNum :6\n",
      "FirstNum  /  SecondNum = 0.8333333333333334\n"
     ]
    }
   ],
   "source": [
    "# 1. Make a calculator using Python with addition , subtraction , multiplication ,division and power?\n",
    "\n",
    "def add (a,b):\n",
    "    return a + b\n",
    "\n",
    "def sub (a,b):\n",
    "    return a - b\n",
    "\n",
    "def multiply (a,b):\n",
    "    return a * b\n",
    "\n",
    "def divide (a,b):\n",
    "    return a / b\n",
    "\n",
    "def power (a,b):\n",
    "    return a ** b\n",
    "#Choose the Function for Opperation:\n",
    "print('1.Addition');\n",
    "print('2.Subtraction');\n",
    "print('3.Multiplication');\n",
    "print('4.Division');\n",
    "print('5.Power');\n",
    "#Take user Command\n",
    "choose = int(input(\"Choose the operator 1/2/3/4/5:\"))\n",
    "if choose in (1,2,3,4,5):\n",
    "    Num1 = float(input(\"FirstNum :\"));\n",
    "    Num2 = float(input(\"SecondNum :\"));\n",
    "    if choose == 1:\n",
    "        print('FirstNum',\" + \",'SecondNum',\"=\", add(Num1,Num2));\n",
    "    elif choose == 2:\n",
    "        print('FirstNum',\" - \",'SecondNum',\"=\", sub(Num1,Num2));\n",
    "    elif choose == 3:\n",
    "        print('FirstNum',\" * \",'SecondNum',\"=\", multiply(Num1,Num2));\n",
    "    elif choose == 4:\n",
    "        print('FirstNum',\" / \",'SecondNum',\"=\", divide(Num1,Num2));\n",
    "    elif choose == 5:\n",
    "        print('FirstNum',\" ** \",'SecondNum',\"=\", power(Num1,Num2));\n",
    "else:\n",
    "    print(\"Invlide Choise\")"
   ]
  },
  {
   "cell_type": "code",
   "execution_count": 2,
   "id": "8a9bfc8e",
   "metadata": {},
   "outputs": [
    {
     "name": "stdout",
     "output_type": "stream",
     "text": [
      "11\n",
      "1\n",
      "50\n"
     ]
    }
   ],
   "source": [
    "# 2. Write a program to check if there is any numeric value in list using for loop?\n",
    "\n",
    "lst = [\"Mubashir\",11,\"Hassan\",1,\"ali\",50];\n",
    "for x in lst:\n",
    "    if type(x) == int:\n",
    "        print(x)"
   ]
  },
  {
   "cell_type": "code",
   "execution_count": 4,
   "id": "92f6718d",
   "metadata": {},
   "outputs": [
    {
     "name": "stdout",
     "output_type": "stream",
     "text": [
      "{0: 'Mubi', 1: 50}\n",
      "{0: 'Mubi', 1: 50, 2: 'Meshi'}\n"
     ]
    }
   ],
   "source": [
    "# 3. Write a Python script to add a key to a dictionary?\n",
    "\n",
    "d = {0:'Mubi', 1:50}\n",
    "print(d)\n",
    "d.update({2:'Meshi'})\n",
    "print(d)"
   ]
  },
  {
   "cell_type": "code",
   "execution_count": 6,
   "id": "47284290",
   "metadata": {},
   "outputs": [
    {
     "name": "stdout",
     "output_type": "stream",
     "text": [
      "108\n"
     ]
    }
   ],
   "source": [
    "# 4. Write a Python program to sum all the numeric items in a dictionary?\n",
    "\n",
    "my_dict = {'data1':10,'data2':88,'data3':10}\n",
    "data = my_dict.values()\n",
    "print(sum(data))"
   ]
  },
  {
   "cell_type": "code",
   "execution_count": 8,
   "id": "1feee8dd",
   "metadata": {},
   "outputs": [
    {
     "name": "stdout",
     "output_type": "stream",
     "text": [
      "4\n",
      "1\n",
      "0\n"
     ]
    }
   ],
   "source": [
    "# 5. Write a program to identify duplicate values from list?\n",
    "\n",
    "numerics = [4,1,0,4,1,0,9,5]\n",
    "duplicate = []\n",
    "for i in numerics:\n",
    "    if i not in duplicate:\n",
    "        duplicate.append(i)\n",
    "    else:\n",
    "        print(i)"
   ]
  },
  {
   "cell_type": "code",
   "execution_count": 9,
   "id": "f5dd8173",
   "metadata": {},
   "outputs": [
    {
     "name": "stdout",
     "output_type": "stream",
     "text": [
      "Entern Your Key : email\n",
      "Key Already Exists\n"
     ]
    }
   ],
   "source": [
    "# 6. Write a Python script to check if a given key already exists in a dictionary\n",
    "\n",
    "dict_1 = {\"name\": \"Umair\", \"age\":22, 'email':\"m.umairshezzy7351@gmail.com\"}\n",
    "input1 = input(\"Entern Your Key : \")\n",
    "if input1 in dict_1:\n",
    "    print(\"Key Already Exists\")\n",
    "else:\n",
    "    print(\"Key Does not Exist\")"
   ]
  },
  {
   "cell_type": "code",
   "execution_count": null,
   "id": "1ecc4fd2",
   "metadata": {},
   "outputs": [],
   "source": []
  }
 ],
 "metadata": {
  "kernelspec": {
   "display_name": "Python 3",
   "language": "python",
   "name": "python3"
  },
  "language_info": {
   "codemirror_mode": {
    "name": "ipython",
    "version": 3
   },
   "file_extension": ".py",
   "mimetype": "text/x-python",
   "name": "python",
   "nbconvert_exporter": "python",
   "pygments_lexer": "ipython3",
   "version": "3.8.8"
  }
 },
 "nbformat": 4,
 "nbformat_minor": 5
}
